{
 "cells": [
  {
   "cell_type": "markdown",
   "id": "38849c38",
   "metadata": {},
   "source": [
    "# ICR-Identifying Age Related Conditions"
   ]
  },
  {
   "cell_type": "markdown",
   "id": "68892187",
   "metadata": {},
   "source": [
    "https://www.kaggle.com/competitions/icr-identify-age-related-conditions/overview"
   ]
  },
  {
   "cell_type": "markdown",
   "id": "e690dcfe",
   "metadata": {},
   "source": [
    "### Files and Field Descriptions\n",
    "\n",
    "- **train.csv** - The training set.<br>\n",
    ">- **Id** Unique identifier for each observation. <br>\n",
    ">- **AB**-**GL** Fifty-six anonymized health characteristics. All are *numeric* except for **EJ**, which is *categorical*. <br>\n",
    ">- **Class** A binary target: 1 indicates the subject has been diagnosed with one of the three conditions, 0 indicates they have not.\n",
    "- **test.csv** - The test set. Your goal is to predict the probability that a subject in this set belongs to each of the two classes.<br><br>\n",
    "- **greeks.csv** - Supplemental metadata, only available for the training set.\n",
    ">- **Alpha** Identifies the type of age-related condition, if present.<br>\n",
    ">-- **A** No age-related condition. Corresponds to class **0**.<br>\n",
    ">-- **B**, **D**, **G** The three age-related conditions. Correspond to class **1**.<br>\n",
    ">- **Beta**, **Gamma**, **Delta** Three experimental characteristics.<br>\n",
    ">- **Epsilon** The date the data for this subject was collected. Note that all of the data in the test set was collected after the training set was collected.\n",
    "- **sample_submission.csv** - A sample submission file in the correct format.<br> \n"
   ]
  },
  {
   "cell_type": "code",
   "execution_count": null,
   "id": "b7e04920",
   "metadata": {},
   "outputs": [],
   "source": []
  },
  {
   "cell_type": "code",
   "execution_count": null,
   "id": "d95201de",
   "metadata": {},
   "outputs": [],
   "source": []
  }
 ],
 "metadata": {
  "kernelspec": {
   "display_name": "Python 3 (ipykernel)",
   "language": "python",
   "name": "python3"
  },
  "language_info": {
   "codemirror_mode": {
    "name": "ipython",
    "version": 3
   },
   "file_extension": ".py",
   "mimetype": "text/x-python",
   "name": "python",
   "nbconvert_exporter": "python",
   "pygments_lexer": "ipython3",
   "version": "3.9.13"
  }
 },
 "nbformat": 4,
 "nbformat_minor": 5
}
