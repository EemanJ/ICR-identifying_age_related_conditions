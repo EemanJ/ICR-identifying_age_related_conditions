{
 "cells": [
  {
   "cell_type": "markdown",
   "id": "ac5918d9",
   "metadata": {},
   "source": [
    "# ICR-Identifying Age Related Conditions"
   ]
  },
  {
   "cell_type": "markdown",
   "id": "e8faea05",
   "metadata": {},
   "source": [
    "https://www.kaggle.com/competitions/icr-identify-age-related-conditions/overview"
   ]
  },
  {
   "cell_type": "markdown",
   "id": "b5f97b5a",
   "metadata": {},
   "source": [
    "### Files and Field Descriptions\n",
    "\n",
    "( - ) **train.csv** - The training set.\n",
    "        **Id** Unique identifier for each observation. <br>\n",
    "        **AB**-**GL** Fifty-six anonymized health characteristics. All are *numeric* except for **EJ**, which is *categorical*. <br>\n",
    "        **Class** A binary target: 1 indicates the subject has been diagnosed with one of the three conditions, 0 indicates they have not. <br><br>\n",
    "(- ) **test.csv** - The test set. Your goal is to predict the probability that a subject in this set belongs to each of the two classes.<br><br>\n",
    "(- ) **greeks.csv** - Supplemental metadata, only available for the training set.\n",
    "        **Alpha** Identifies the type of age-related condition, if present.\n",
    "            **A** No age-related condition. Corresponds to class **0**.\n",
    "            **B**, **D**, **G** The three age-related conditions. Correspond to class **1**.\n",
    "        **Beta**, **Gamma**, **Delta** Three experimental characteristics.\n",
    "        **Epsilon** The date the data for this subject was collected. Note that all of the data in the test set was collected after the training set was collected.\n",
    "(-) **sample_submission.csv** - A sample submission file in the correct format. \n"
   ]
  },
  {
   "cell_type": "code",
   "execution_count": null,
   "id": "71e543ca",
   "metadata": {},
   "outputs": [],
   "source": []
  }
 ],
 "metadata": {
  "kernelspec": {
   "display_name": "Python 3 (ipykernel)",
   "language": "python",
   "name": "python3"
  },
  "language_info": {
   "codemirror_mode": {
    "name": "ipython",
    "version": 3
   },
   "file_extension": ".py",
   "mimetype": "text/x-python",
   "name": "python",
   "nbconvert_exporter": "python",
   "pygments_lexer": "ipython3",
   "version": "3.9.13"
  }
 },
 "nbformat": 4,
 "nbformat_minor": 5
}
